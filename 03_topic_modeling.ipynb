{
  "cells": [
    {
      "cell_type": "markdown",
      "metadata": {
        "id": "view-in-github",
        "colab_type": "text"
      },
      "source": [
        "<a href=\"https://colab.research.google.com/github/tomonari-masada/course2023-nlp/blob/main/03_topic_modeling.ipynb\" target=\"_parent\"><img src=\"https://colab.research.google.com/assets/colab-badge.svg\" alt=\"Open In Colab\"/></a>"
      ]
    },
    {
      "cell_type": "markdown",
      "metadata": {
        "id": "mPj0E52Uf-se"
      },
      "source": [
        "# トピックモデリング (topic modeling)\n",
        "\n",
        "* BoW (bag-of-words) の範囲で実現できる優れたEDA (exploratory data analysis)。\n"
      ]
    },
    {
      "cell_type": "markdown",
      "metadata": {
        "id": "Io0B8e-vad-8"
      },
      "source": [
        "## 解説"
      ]
    },
    {
      "cell_type": "markdown",
      "metadata": {
        "id": "s4aVnL4U4nlN"
      },
      "source": [
        "### 使いみち\n",
        "* テキストの集合から、多数の異なる話題を、それぞれの話題を端的に表す単語リストとして取り出せる。\n",
        "* BoWの文書ベクトル（単語の出現頻度を要素とするベクトル）の次元圧縮には、使わない方がよい。\n",
        " * あくまでEDAの手法として使うのが吉。"
      ]
    },
    {
      "cell_type": "markdown",
      "metadata": {
        "id": "VNZHGzh64gax"
      },
      "source": [
        "### 入力データの形式\n",
        "* 入力データは各文書における各単語の出現回数。\n",
        " * BoWとしてテキストをモデリングするので、**語順は考慮されない**。"
      ]
    },
    {
      "cell_type": "markdown",
      "metadata": {
        "id": "DwofNZGC3bTe"
      },
      "source": [
        "### 代表的な手法: 潜在的ディリクレ配分法\n",
        "* 英語ではLDA (latent Dirichlet allocation)。\n",
        "* LDAはテキスト集合のモデリングに使えるベイズ的な確率モデル。\n",
        " * LDAの理屈については「統計モデリング2」で。\n",
        "* 今回はsklearnの実装を使う。\n",
        " * https://scikit-learn.org/stable/modules/generated/sklearn.decomposition.LatentDirichletAllocation.html\n",
        "* gensimのLDAの実装はお勧めしない。\n",
        " * デフォルトの設定が間違っているため。"
      ]
    },
    {
      "cell_type": "markdown",
      "metadata": {
        "id": "vTyeErX63ahO"
      },
      "source": [
        "### LDAのモデル構成\n",
        "* LDAは、テキスト集合から、$K$個のトピックを抽出する。\n",
        "* 各トピックは、$W$個の語彙の上に定義された確率分布として得られる。\n",
        " * 各トピックについて、全語彙にわたって和をとると1になる数値の集まりが得られる。\n",
        " * $\\phi_k = \\{ \\phi_{k,1}, \\ldots, \\phi_{k,W} \\}$ s.t. $\\sum_{w=1}^W \\phi_{k,w} = 1$ for $k=1, \\ldots, K$\n",
        "* LDAを使うと、各テキストにおけるトピックの混合率も分かる。\n",
        " * 各テキストについて、全てのトピックにわたって和を求めると1になる数値の集まりが得られる。\n",
        " * $\\theta_d = \\{ \\theta_{d,1}, \\ldots, \\theta_{d,K} \\}$ s.t. $\\sum_{k=1}^K \\theta_{d,k} = 1$ for each document $d$\n",
        "* 今回は、各トピックにおいて確率の高い単語を、ワードクラウドで可視化する。"
      ]
    },
    {
      "cell_type": "markdown",
      "metadata": {
        "id": "wwDmQK7a7ZUo"
      },
      "source": [
        "## spaCy日本語モデルのインストール"
      ]
    },
    {
      "cell_type": "code",
      "execution_count": null,
      "metadata": {
        "id": "q84eYYPP5yYh"
      },
      "outputs": [],
      "source": [
        "!python -m spacy download ja_core_news_sm"
      ]
    },
    {
      "cell_type": "markdown",
      "metadata": {
        "id": "-GS2EbCt7k-r"
      },
      "source": [
        "## データセットの準備\n",
        "* liverdoorニュースコーパスを使う。"
      ]
    },
    {
      "cell_type": "code",
      "execution_count": null,
      "metadata": {
        "id": "ygbsoSd36DXf"
      },
      "outputs": [],
      "source": [
        "!wget https://www.rondhuit.com/download/ldcc-20140209.tar.gz"
      ]
    },
    {
      "cell_type": "markdown",
      "metadata": {
        "id": "_Bj6ghpj7pki"
      },
      "source": [
        "* 前回と同じ前処理。"
      ]
    },
    {
      "cell_type": "code",
      "execution_count": null,
      "metadata": {
        "id": "v9Ugn6t46Pdr"
      },
      "outputs": [],
      "source": [
        "import re\n",
        "import tarfile\n",
        "\n",
        "tar_fname = \"ldcc-20140209.tar.gz\"\n",
        "\n",
        "def read_title(f):\n",
        "  next(f) # URL\n",
        "  next(f) # タイムスタンプ\n",
        "  title = next(f) # 3行目を返す：タイトル\n",
        "  title = title.decode('utf-8')\n",
        "  brackets_tail = re.compile('【[^】]*】$')\n",
        "  brackets_head = re.compile('^【[^】]*】')\n",
        "  return re.sub(brackets_head, \"\", re.sub(brackets_tail, \"\", title))[:-1]\n",
        "\n",
        "corpus = []\n",
        "with tarfile.open(tar_fname) as tf:\n",
        "  for item in tf:\n",
        "    if \"LICENSE.txt\" in item.name:\n",
        "      continue\n",
        "    if len(item.name.split('/')) < 3:\n",
        "      continue\n",
        "    if not item.name.endswith(\".txt\"):\n",
        "      continue\n",
        "    fname = item.name\n",
        "    # 今回はクラス名は要らない\n",
        "    #class_name = fname.split('/')[1]\n",
        "    f = tf.extractfile(fname)\n",
        "    title = read_title(f)\n",
        "    corpus.append(title)"
      ]
    },
    {
      "cell_type": "code",
      "execution_count": null,
      "metadata": {
        "id": "fXircI6x6yLH"
      },
      "outputs": [],
      "source": [
        "len(corpus)"
      ]
    },
    {
      "cell_type": "markdown",
      "metadata": {
        "id": "FrdP9HBb7uMK"
      },
      "source": [
        "* 形態素解析し、活用語は原形に戻す。\n",
        "* 今回は、名詞、固有名詞、動詞、形容詞、副詞のみを残す。"
      ]
    },
    {
      "cell_type": "code",
      "execution_count": null,
      "metadata": {
        "id": "4mj2EIpW60ZU"
      },
      "outputs": [],
      "source": [
        "import spacy\n",
        "from tqdm import tqdm\n",
        "\n",
        "nlp = spacy.load(\"ja_core_news_sm\")\n",
        "\n",
        "pos_list = [\"NOUN\", \"PROPN\", \"VERB\", \"ADJ\", \"ADV\"]\n",
        "\n",
        "lemmatized = []\n",
        "for text in tqdm(corpus):\n",
        "  words = [token.lemma_ for token in nlp(text) if token.pos_ in pos_list]\n",
        "  lemmatized.append(' '.join(words))"
      ]
    },
    {
      "cell_type": "code",
      "execution_count": null,
      "metadata": {
        "id": "u2QJLHI7725X"
      },
      "outputs": [],
      "source": [
        "lemmatized[:20]"
      ]
    },
    {
      "cell_type": "code",
      "execution_count": null,
      "metadata": {
        "id": "NvbtLJoh7yK-"
      },
      "outputs": [],
      "source": [
        "with open(\"lemmatized_livedoor_corpus.txt\", \"w\") as f:\n",
        "  for text in lemmatized:\n",
        "    f.write(f\"{text}\\n\")"
      ]
    },
    {
      "cell_type": "markdown",
      "metadata": {
        "id": "D9KGwXSP5zCt"
      },
      "source": [
        "## word cloudを作る練習\n",
        "* livedoorニュースコーパス全体で一つのword cloudを作ってみる。"
      ]
    },
    {
      "cell_type": "code",
      "execution_count": null,
      "metadata": {
        "id": "4HyIraAW9ltX"
      },
      "outputs": [],
      "source": [
        "import codecs\n",
        "import matplotlib.pyplot as plt\n",
        "from wordcloud import WordCloud\n",
        "\n",
        "%config InlineBackend.figure_format = 'retina'"
      ]
    },
    {
      "cell_type": "markdown",
      "metadata": {
        "id": "pRMihsPFChug"
      },
      "source": [
        "### テキストの準備\n",
        "* 全てのテキストをつなげた長い文字列を作る。"
      ]
    },
    {
      "cell_type": "code",
      "execution_count": null,
      "metadata": {
        "id": "ONskFBbg91ib"
      },
      "outputs": [],
      "source": [
        "with open(\"lemmatized_livedoor_corpus.txt\", \"r\") as f:\n",
        "  lines = f.readlines()\n",
        "long_text = ' '.join([line.strip() for line in lines])\n",
        "long_text[:50]"
      ]
    },
    {
      "cell_type": "markdown",
      "metadata": {
        "id": "U-Gk8rV9CuwH"
      },
      "source": [
        "### 単語のフィルタリング"
      ]
    },
    {
      "cell_type": "markdown",
      "metadata": {
        "id": "4RPEgavqB0Fj"
      },
      "source": [
        "* 単語を出現頻度の降順にソートする。"
      ]
    },
    {
      "cell_type": "code",
      "execution_count": null,
      "metadata": {
        "id": "P3aOqKxQ_x6S"
      },
      "outputs": [],
      "source": [
        "from collections import Counter\n",
        "\n",
        "word_freqs = Counter(long_text.split()).items()\n",
        "sorted_word_freqs = sorted(word_freqs, key=lambda x: -x[1])"
      ]
    },
    {
      "cell_type": "code",
      "execution_count": null,
      "metadata": {
        "id": "LhhuDtxrAn_u"
      },
      "outputs": [],
      "source": [
        "print(sorted_word_freqs[:50])"
      ]
    },
    {
      "cell_type": "markdown",
      "metadata": {
        "id": "H6JfpmopCRZa"
      },
      "source": [
        "* 適当な条件を設定してフィルタリングする。"
      ]
    },
    {
      "cell_type": "code",
      "execution_count": null,
      "metadata": {
        "id": "gTjCGT14Atr4"
      },
      "outputs": [],
      "source": [
        "reduced_sorted_word_freqs = [\n",
        "    (word, freq)\n",
        "    for word, freq in sorted_word_freqs\n",
        "    if freq < 320 and freq >= 5 and len(word) > 1\n",
        "    ]\n",
        "print(reduced_sorted_word_freqs[:10])\n",
        "print(reduced_sorted_word_freqs[-10:])"
      ]
    },
    {
      "cell_type": "markdown",
      "metadata": {
        "id": "m4wdOt9yC0HK"
      },
      "source": [
        "### word cloudの描画"
      ]
    },
    {
      "cell_type": "code",
      "execution_count": null,
      "metadata": {
        "id": "LP0Lj45z-fM0"
      },
      "outputs": [],
      "source": [
        "wordcloud = WordCloud(\n",
        "    font_path=\"/usr/share/fonts/truetype/fonts-japanese-mincho.ttf\",\n",
        "    background_color=\"white\",\n",
        "    width=1600,\n",
        "    height=900,\n",
        "    )\n",
        "wordcloud.generate_from_frequencies(dict(reduced_sorted_word_freqs))\n",
        "plt.imshow(wordcloud)\n",
        "plt.axis(\"off\")\n",
        "plt.savefig(\"word_cloud.png\")"
      ]
    },
    {
      "cell_type": "markdown",
      "metadata": {
        "id": "sIEqjxRTcnan"
      },
      "source": [
        "* 多数のテキストに対して、たった一つword cloudを作ったところで、何が分かるというのだろうか？"
      ]
    },
    {
      "cell_type": "markdown",
      "metadata": {
        "id": "cd8RjBObDASl"
      },
      "source": [
        "## LDAによるEDA"
      ]
    },
    {
      "cell_type": "markdown",
      "metadata": {
        "id": "5Nu0eT7OXCzD"
      },
      "source": [
        "### データ行列の作成\n",
        "* LDAの場合、単語の出現頻度をそのまま使って各文書をベクトル化する。"
      ]
    },
    {
      "cell_type": "markdown",
      "source": [
        "* 先ほど決めた単語群をLDAの語彙として使う。"
      ],
      "metadata": {
        "id": "-afaQSNjm8MF"
      }
    },
    {
      "cell_type": "code",
      "source": [
        "vocabulary = dict(reduced_sorted_word_freqs).keys()\n",
        "len(vocabulary)"
      ],
      "metadata": {
        "id": "aU-6ll0qmrG0"
      },
      "execution_count": null,
      "outputs": []
    },
    {
      "cell_type": "code",
      "execution_count": null,
      "metadata": {
        "id": "zrj0mmMrCzNI"
      },
      "outputs": [],
      "source": [
        "from sklearn.feature_extraction.text import CountVectorizer\n",
        "\n",
        "with open(\"lemmatized_livedoor_corpus.txt\", \"r\") as f:\n",
        "  lines = f.readlines()\n",
        "corpus = [line.strip() for line in lines]\n",
        "\n",
        "# 英語の単語は小文字にしないようにする\n",
        "vectorizer = CountVectorizer(lowercase=False, vocabulary=vocabulary)\n",
        "X = vectorizer.fit_transform(corpus)"
      ]
    },
    {
      "cell_type": "markdown",
      "metadata": {
        "id": "t2wVko9vXnlq"
      },
      "source": [
        "* 文書数と語彙サイズを変数にセット"
      ]
    },
    {
      "cell_type": "code",
      "execution_count": null,
      "metadata": {
        "id": "kAd821DGFXXp"
      },
      "outputs": [],
      "source": [
        "n_samples, n_features = X.shape"
      ]
    },
    {
      "cell_type": "markdown",
      "metadata": {
        "id": "VSAEThMwZjhb"
      },
      "source": [
        "### LDAによるトピック抽出の実行\n",
        "* 内部的には、変分推論で事後分布のパラメータを推定している。\n",
        " * `learning_method=\"online\"`として、ミニバッチ式の繰り返し計算にすることを推奨。"
      ]
    },
    {
      "cell_type": "markdown",
      "metadata": {
        "id": "qxdJTl_VYNHV"
      },
      "source": [
        "* 抽出するトピックの個数は`n_components`で指定する。"
      ]
    },
    {
      "cell_type": "code",
      "execution_count": null,
      "metadata": {
        "id": "KuuSTK6fZfu7"
      },
      "outputs": [],
      "source": [
        "from sklearn.decomposition import LatentDirichletAllocation\n",
        "\n",
        "n_components = 20\n",
        "\n",
        "lda = LatentDirichletAllocation(\n",
        "    n_components=n_components, #要チューニング\n",
        "    doc_topic_prior=0.05, #要チューニング\n",
        "    topic_word_prior=0.01, #要チューニング\n",
        "    learning_method=\"online\",\n",
        "    max_iter=20,\n",
        "    batch_size=200,\n",
        "    random_state=12345,\n",
        "    evaluate_every=1,\n",
        "    verbose=1, #最適化計算の進行状況をチェックする\n",
        "    )"
      ]
    },
    {
      "cell_type": "code",
      "execution_count": null,
      "metadata": {
        "id": "qWd3DND8aAVz"
      },
      "outputs": [],
      "source": [
        "lda.fit(X)"
      ]
    },
    {
      "cell_type": "markdown",
      "metadata": {
        "id": "b_HRjNZJcbNr"
      },
      "source": [
        "### 高確率語をワードクラウドで可視化"
      ]
    },
    {
      "cell_type": "code",
      "execution_count": null,
      "metadata": {
        "id": "4o3v2CLfb1ku"
      },
      "outputs": [],
      "source": [
        "wordcloud = WordCloud(\n",
        "    font_path=\"/usr/share/fonts/truetype/fonts-japanese-mincho.ttf\",\n",
        "    background_color=\"white\",\n",
        "    width=1600,\n",
        "    height=900,\n",
        "    )"
      ]
    },
    {
      "cell_type": "code",
      "execution_count": null,
      "metadata": {
        "id": "NFf5jcX5b45d"
      },
      "outputs": [],
      "source": [
        "n_cols = 4\n",
        "\n",
        "fig, axes = plt.subplots(\n",
        "    n_components // n_cols ,\n",
        "    n_cols,\n",
        "    figsize=(16, 16),\n",
        "    sharex=True,\n",
        "    sharey=True,\n",
        "    )\n",
        "\n",
        "for i, ax in enumerate(axes.flatten()):\n",
        "  fig.add_subplot(ax)\n",
        "  # キーが単語で値が重みの辞書を作っている\n",
        "  wordcloud.generate_from_frequencies(\n",
        "      dict(zip(vocabulary, lda.components_[i]))\n",
        "      )\n",
        "  plt.gca().imshow(wordcloud)\n",
        "  plt.gca().set_title(f\"Topic {i:02d}\")\n",
        "  plt.gca().axis('off')\n",
        "\n",
        "plt.subplots_adjust(wspace=0, hspace=0)\n",
        "plt.axis('off')\n",
        "plt.margins(x=0, y=0)\n",
        "plt.tight_layout()"
      ]
    },
    {
      "cell_type": "markdown",
      "source": [
        "## LDAのチューニング\n",
        "* perplexityの値ができるだけ小さくなるように、チューニングする。\n",
        "* 計算に時間がかかるからといって、`max_iter`を一桁にしないこと。\n",
        " * `max_iter`の値は十分に大きくすること。\n",
        " * perplexityの値があまり動かないところまで推定計算をちゃんと動かすため。"
      ],
      "metadata": {
        "id": "4ZrStIztoSGO"
      }
    },
    {
      "cell_type": "markdown",
      "source": [
        "### チューニングすべきパラメータ\n",
        "* `n_components`\n",
        " * 抽出するトピックの数。\n",
        " * 多すぎても、少なすぎても、分析が今ひとつになる。\n",
        " * 数千件のテキストなら、2桁のトピック数はおそらく必要。\n",
        "* `doc_topic_prior`\n",
        " * ドキュメントごとのトピック確率分布の事前分布のパラメータ。\n",
        " * 詳細は「統計モデリング2」で。\n",
        " * 0.01, 0.02, 0.05, 0.1, 0.2, 0.5の6通りぐらいは試す。\n",
        "* `topic_word_prior`\n",
        " * トピックごとの単語確率分布の事前分布のパラメータ。\n",
        " * 詳細は「統計モデリング2」で。\n",
        " * 0.01, 0.02, 0.05, 0.1, 0.2, 0.5の6通りぐらいは試す。"
      ],
      "metadata": {
        "id": "nHoVXLLWoZXt"
      }
    },
    {
      "cell_type": "markdown",
      "metadata": {
        "id": "_CgCE_UscGSA"
      },
      "source": [
        "## pyLDAvisによる可視化\n",
        "* チューニングが終わった後に使うと良い。"
      ]
    },
    {
      "cell_type": "markdown",
      "source": [
        "* インストール"
      ],
      "metadata": {
        "id": "6YNlkQ1CqutD"
      }
    },
    {
      "cell_type": "code",
      "execution_count": null,
      "metadata": {
        "id": "GD8TnZ21Q1Ex"
      },
      "outputs": [],
      "source": [
        "!pip install pyLDAvis"
      ]
    },
    {
      "cell_type": "markdown",
      "metadata": {
        "id": "f8QHe5IOQ_JP"
      },
      "source": [
        "* おそらくランタイムの再起動が必要。"
      ]
    },
    {
      "cell_type": "markdown",
      "metadata": {
        "id": "NPvA6t1djK0F"
      },
      "source": [
        "* LDAの学習をやり直す。"
      ]
    },
    {
      "cell_type": "code",
      "execution_count": null,
      "metadata": {
        "id": "BYAl4yfoR-Y2"
      },
      "outputs": [],
      "source": [
        "from sklearn.feature_extraction.text import CountVectorizer\n",
        "from sklearn.decomposition import LatentDirichletAllocation\n",
        "\n",
        "with open(\"lemmatized_livedoor_corpus.txt\", \"r\") as f:\n",
        "  lines = f.readlines()\n",
        "corpus = [line.strip() for line in lines]\n",
        "\n",
        "vectorizer = CountVectorizer(max_df=0.5, min_df=5)\n",
        "X = vectorizer.fit_transform(corpus)\n",
        "\n",
        "n_components = 20\n",
        "\n",
        "lda = LatentDirichletAllocation(\n",
        "    n_components=n_components,\n",
        "    doc_topic_prior=0.05,\n",
        "    topic_word_prior=0.01,\n",
        "    learning_method='online',\n",
        "    max_iter=20,\n",
        "    batch_size=200,\n",
        "    random_state=12345,\n",
        "    evaluate_every=1,\n",
        "    verbose=1,\n",
        "    )\n",
        "lda.fit(X)"
      ]
    },
    {
      "cell_type": "code",
      "execution_count": null,
      "metadata": {
        "id": "8X18xyTuRgD5"
      },
      "outputs": [],
      "source": [
        "import pyLDAvis\n",
        "\n",
        "pyLDAvis.prepare(\n",
        "  lda.components_,\n",
        "  lda.transform(X),\n",
        "  doc_lengths=X.sum(axis=1).getA1(),\n",
        "  vocab=vectorizer.get_feature_names_out(),\n",
        "  term_frequency=X.sum(axis=0).getA1(),\n",
        "  #mds=\"tsne\",\n",
        ")"
      ]
    },
    {
      "cell_type": "code",
      "execution_count": null,
      "metadata": {
        "id": "tEdyCc4jV4mm"
      },
      "outputs": [],
      "source": []
    }
  ],
  "metadata": {
    "colab": {
      "provenance": [],
      "mount_file_id": "12MxXsGfePft6pAHKkHrg23Yb7t_RSKiN",
      "authorship_tag": "ABX9TyPjvZsDgnOHdcQJir59Mcen",
      "include_colab_link": true
    },
    "kernelspec": {
      "display_name": "Python 3",
      "name": "python3"
    }
  },
  "nbformat": 4,
  "nbformat_minor": 0
}
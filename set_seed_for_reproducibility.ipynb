{
  "nbformat": 4,
  "nbformat_minor": 0,
  "metadata": {
    "colab": {
      "provenance": [],
      "authorship_tag": "ABX9TyOYC5euZi45VrOY+xrxNf29",
      "include_colab_link": true
    },
    "kernelspec": {
      "name": "python3",
      "display_name": "Python 3"
    },
    "language_info": {
      "name": "python"
    }
  },
  "cells": [
    {
      "cell_type": "markdown",
      "metadata": {
        "id": "view-in-github",
        "colab_type": "text"
      },
      "source": [
        "<a href=\"https://colab.research.google.com/github/tomonari-masada/course2023-nlp/blob/main/set_seed_for_reproducibility.ipynb\" target=\"_parent\"><img src=\"https://colab.research.google.com/assets/colab-badge.svg\" alt=\"Open In Colab\"/></a>"
      ]
    },
    {
      "cell_type": "markdown",
      "source": [
        "# 再現性の確保（完全版）\n",
        "\n",
        "* 以下を参考にした。\n",
        "  * https://github.com/ericwtodd/function_vectors/blob/main/src/utils/model_utils.py"
      ],
      "metadata": {
        "id": "Qi4z9xmCkm-6"
      }
    },
    {
      "cell_type": "code",
      "execution_count": null,
      "metadata": {
        "id": "cuMVGkpCkbJf"
      },
      "outputs": [],
      "source": [
        "import os\n",
        "import random\n",
        "import torch\n",
        "import numpy as np\n",
        "\n",
        "\n",
        "def set_seed(seed):\n",
        "\n",
        "    # Random seed\n",
        "    random.seed(seed)\n",
        "\n",
        "    # Numpy seed\n",
        "    np.random.seed(seed)\n",
        "\n",
        "    # Torch seed\n",
        "    torch.manual_seed(seed)\n",
        "    torch.cuda.manual_seed(seed)\n",
        "    torch.backends.cudnn.deterministic = True\n",
        "    torch.backends.cudnn.benchmark = True\n",
        "\n",
        "    # os seed\n",
        "    os.environ['PYTHONHASHSEED'] = str(seed)"
      ]
    }
  ]
}
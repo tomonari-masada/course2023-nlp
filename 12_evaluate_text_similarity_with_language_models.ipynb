{
  "nbformat": 4,
  "nbformat_minor": 0,
  "metadata": {
    "colab": {
      "provenance": [],
      "gpuType": "T4",
      "mount_file_id": "1Hz9rXJHZDZeEY4pbWkLYFhZftVekADdY",
      "authorship_tag": "ABX9TyNxQmqAen+HmsvK9u/l3Jbk",
      "include_colab_link": true
    },
    "kernelspec": {
      "name": "python3",
      "display_name": "Python 3"
    },
    "accelerator": "GPU"
  },
  "cells": [
    {
      "cell_type": "markdown",
      "metadata": {
        "id": "view-in-github",
        "colab_type": "text"
      },
      "source": [
        "<a href=\"https://colab.research.google.com/github/tomonari-masada/course2023-nlp/blob/main/12_evaluate_text_similarity_with_language_models.ipynb\" target=\"_parent\"><img src=\"https://colab.research.google.com/assets/colab-badge.svg\" alt=\"Open In Colab\"/></a>"
      ]
    },
    {
      "cell_type": "markdown",
      "metadata": {
        "id": "6t-iVvqcVnB5"
      },
      "source": [
        "# 言語モデルを用いたテキストの類似度評価\n"
      ]
    },
    {
      "cell_type": "markdown",
      "source": [
        "**ランタイムのタイプはGPUに設定しておく。**"
      ],
      "metadata": {
        "id": "itAjMkKFwUev"
      }
    },
    {
      "cell_type": "markdown",
      "metadata": {
        "id": "Im8djYmZkB3b"
      },
      "source": [
        "## 言語モデルによるテキストの埋め込み\n",
        "* 今回は、二種類の言語モデルを使ってテキストをembedし・・・\n",
        "* その後、内積で類似度を求める。\n",
        "  * 内積は、大きい方がより類似している、という尺度。"
      ]
    },
    {
      "cell_type": "markdown",
      "source": [
        "### 必要なライブラリのインストール"
      ],
      "metadata": {
        "id": "AfX3eDm2BmAY"
      }
    },
    {
      "cell_type": "markdown",
      "source": [
        "* `fugashi[unidic-lite]`はcl-tohoku/bert-base-japanese-v3を使うために必要。"
      ],
      "metadata": {
        "id": "SM-EdTK1l9sC"
      }
    },
    {
      "cell_type": "code",
      "metadata": {
        "id": "-6V_dyqv0n1o"
      },
      "source": [
        "!pip install -q transformers fugashi[unidic-lite] sentence-transformers accelerate"
      ],
      "execution_count": null,
      "outputs": []
    },
    {
      "cell_type": "markdown",
      "source": [
        "## (A) cl-tohoku/bert-base-japanese-v3"
      ],
      "metadata": {
        "id": "I3RGWUNzBoo5"
      }
    },
    {
      "cell_type": "markdown",
      "source": [
        "* このモデルについては、下記を参照。\n",
        "  * https://huggingface.co/cl-tohoku/bert-base-japanese-v3"
      ],
      "metadata": {
        "id": "cz0DjQL0zvaC"
      }
    },
    {
      "cell_type": "markdown",
      "source": [
        "* モデルをダウンロードする。"
      ],
      "metadata": {
        "id": "VH1iTWRqzjFi"
      }
    },
    {
      "cell_type": "code",
      "source": [
        "from sentence_transformers import SentenceTransformer\n",
        "\n",
        "model = SentenceTransformer(\"cl-tohoku/bert-base-japanese-v3\")"
      ],
      "metadata": {
        "id": "P1yDjdhl4rid"
      },
      "execution_count": null,
      "outputs": []
    },
    {
      "cell_type": "markdown",
      "source": [
        "* テキストをembedしてみる。"
      ],
      "metadata": {
        "id": "6cRGusJkB32F"
      }
    },
    {
      "cell_type": "code",
      "source": [
        "corpus = [\n",
        "    \"これはりんごです。\",\n",
        "    \"これはりんごですか？\",\n",
        "    \"あれはりんごです。\",\n",
        "]"
      ],
      "metadata": {
        "id": "IPWVoDjfrRj8"
      },
      "execution_count": null,
      "outputs": []
    },
    {
      "cell_type": "code",
      "metadata": {
        "id": "LalaUJ22k9dU"
      },
      "source": [
        "embeddings = model.encode(corpus)"
      ],
      "execution_count": null,
      "outputs": []
    },
    {
      "cell_type": "code",
      "metadata": {
        "id": "gnK61odfnND7"
      },
      "source": [
        "import numpy as np\n",
        "\n",
        "print(f\"「{corpus[0]}」と「{corpus[1]}」の類似度={np.dot(embeddings[0], embeddings[1]):.3f}\")\n",
        "print(f\"「{corpus[0]}」と「{corpus[2]}」の類似度={np.dot(embeddings[0], embeddings[2]):.3f}\")"
      ],
      "execution_count": null,
      "outputs": []
    },
    {
      "cell_type": "markdown",
      "source": [
        "## (B) intfloat/multilingual-e5-small\n",
        "* E5というモデルについては、下記を参照。\n",
        "  * https://huggingface.co/intfloat/multilingual-e5-base\n",
        "  * https://hironsan.hatenablog.com/entry/2023/07/05/073150"
      ],
      "metadata": {
        "id": "DBNHm23Ex5hE"
      }
    },
    {
      "cell_type": "markdown",
      "source": [
        "* モデルをダウンロードする。"
      ],
      "metadata": {
        "id": "QFDNU2WezoTx"
      }
    },
    {
      "cell_type": "code",
      "source": [
        "from transformers import AutoTokenizer, AutoModel\n",
        "\n",
        "model_name = \"intfloat/multilingual-e5-base\"\n",
        "tokenizer = AutoTokenizer.from_pretrained(model_name)\n",
        "model = AutoModel.from_pretrained(model_name).eval().to(\"cuda\")"
      ],
      "metadata": {
        "id": "_TYmsN1zzYzT"
      },
      "execution_count": null,
      "outputs": []
    },
    {
      "cell_type": "markdown",
      "source": [
        "* テキストをembedするために、average poolingを自前で実装する。"
      ],
      "metadata": {
        "id": "MBREYiRSzcPi"
      }
    },
    {
      "cell_type": "code",
      "source": [
        "def average_pool(last_hidden_states, attention_mask):\n",
        "  last_hidden = last_hidden_states.masked_fill(~attention_mask[..., None].bool(), 0.0)\n",
        "  return last_hidden.sum(dim=1) / attention_mask.sum(dim=1)[..., None]"
      ],
      "metadata": {
        "id": "66mFRLfCtmIt"
      },
      "execution_count": null,
      "outputs": []
    },
    {
      "cell_type": "code",
      "source": [
        "corpus = [\n",
        "    \"これはりんごです。\",\n",
        "    \"これはりんごですか？\",\n",
        "    \"あれはりんごです。\",\n",
        "]"
      ],
      "metadata": {
        "id": "ZwkTunlSyOQZ"
      },
      "execution_count": null,
      "outputs": []
    },
    {
      "cell_type": "code",
      "source": [
        "batch_dict = tokenizer(corpus, max_length=512, padding=True, truncation=True, return_tensors='pt').to(\"cuda\")\n",
        "with torch.no_grad():\n",
        "  outputs = model(**batch_dict)\n",
        "embeddings = average_pool(outputs.last_hidden_state, batch_dict['attention_mask']).cpu()"
      ],
      "metadata": {
        "id": "n5DFeFTRxksl"
      },
      "execution_count": null,
      "outputs": []
    },
    {
      "cell_type": "code",
      "source": [
        "import torch\n",
        "\n",
        "print(f\"「{corpus[0]}」と「{corpus[1]}」の類似度={torch.dot(embeddings[0], embeddings[1]):.3f}\")\n",
        "print(f\"「{corpus[0]}」と「{corpus[2]}」の類似度={torch.dot(embeddings[0], embeddings[2]):.3f}\")"
      ],
      "metadata": {
        "id": "VmeryT6Ey-LQ"
      },
      "execution_count": null,
      "outputs": []
    },
    {
      "cell_type": "markdown",
      "source": [
        "## (C) elyza/ELYZA-japanese-Llama-2-7b-fast"
      ],
      "metadata": {
        "id": "OuIhY1jZ-nTp"
      }
    },
    {
      "cell_type": "markdown",
      "source": [
        "* Google Colab無料版だと・・・\n",
        "  * ローカルのキャッシュからモデルをロードするのに1分半ぐらいかかる。\n",
        "* 手元にあるRTX4090搭載ゲーミングPCだと・・・\n",
        "  * ローカルのキャッシュからモデルをロードするのに10秒未満。"
      ],
      "metadata": {
        "id": "DgK3mRMN1NiK"
      }
    },
    {
      "cell_type": "code",
      "source": [
        "import torch\n",
        "from transformers import AutoModel, AutoTokenizer\n",
        "\n",
        "model_name = \"elyza/ELYZA-japanese-Llama-2-7b-fast\"\n",
        "\n",
        "tokenizer = AutoTokenizer.from_pretrained(model_name)\n",
        "model = AutoModel.from_pretrained(\n",
        "    model_name,\n",
        "    torch_dtype=torch.bfloat16,\n",
        "    device_map=\"auto\"\n",
        ").eval()"
      ],
      "metadata": {
        "id": "jR9TXobPm67T"
      },
      "execution_count": null,
      "outputs": []
    },
    {
      "cell_type": "code",
      "source": [
        "model.hf_device_map"
      ],
      "metadata": {
        "id": "WuMtetmi4SUy"
      },
      "execution_count": null,
      "outputs": []
    },
    {
      "cell_type": "code",
      "source": [
        "corpus = [\n",
        "    \"これはりんごです。\",\n",
        "    \"これはりんごですか？\",\n",
        "    \"あれはりんごです。\",\n",
        "]"
      ],
      "metadata": {
        "id": "-RTaj5W2yPcM"
      },
      "execution_count": null,
      "outputs": []
    },
    {
      "cell_type": "code",
      "source": [
        "batch_dict = tokenizer(corpus, max_length=512, padding=True, truncation=True, return_tensors='pt').to(\"cuda\")\n",
        "with torch.no_grad():\n",
        "  outputs = model(**batch_dict)"
      ],
      "metadata": {
        "id": "gFxScAIIn4qj"
      },
      "execution_count": null,
      "outputs": []
    },
    {
      "cell_type": "code",
      "source": [
        "def average_pool(last_hidden_states, attention_mask):\n",
        "  last_hidden = last_hidden_states.masked_fill(~attention_mask[..., None].bool(), 0.0)\n",
        "  return last_hidden.sum(dim=1) / attention_mask.sum(dim=1)[..., None]"
      ],
      "metadata": {
        "id": "CgxMlX7Ky4-M"
      },
      "execution_count": null,
      "outputs": []
    },
    {
      "cell_type": "code",
      "source": [
        "embeddings = average_pool(outputs.last_hidden_state, batch_dict['attention_mask']).cpu()"
      ],
      "metadata": {
        "id": "NMoM8_sdrO7z"
      },
      "execution_count": null,
      "outputs": []
    },
    {
      "cell_type": "code",
      "source": [
        "import torch\n",
        "\n",
        "embeddings = embeddings.type(torch.float32)\n",
        "print(f\"「{corpus[0]}」と「{corpus[1]}」の類似度={torch.dot(embeddings[0], embeddings[1]).item():.3f}\")\n",
        "print(f\"「{corpus[0]}」と「{corpus[2]}」の類似度={torch.dot(embeddings[0], embeddings[2]).item():.3f}\")"
      ],
      "metadata": {
        "id": "eXkkyLT6r1o4"
      },
      "execution_count": null,
      "outputs": []
    },
    {
      "cell_type": "code",
      "source": [
        "embeddings.shape"
      ],
      "metadata": {
        "id": "qmlggzIquFEa"
      },
      "execution_count": null,
      "outputs": []
    },
    {
      "cell_type": "code",
      "source": [
        "!wget https://www.rondhuit.com/download/ldcc-20140209.tar.gz"
      ],
      "metadata": {
        "id": "bYH_tROgtyAw"
      },
      "execution_count": null,
      "outputs": []
    },
    {
      "cell_type": "code",
      "source": [
        "import re\n",
        "import tarfile\n",
        "\n",
        "tar_fname = \"ldcc-20140209.tar.gz\"\n",
        "\n",
        "def read_title(f):\n",
        "  next(f) # URL\n",
        "  next(f) # タイムスタンプ\n",
        "  title = next(f) # 3行目を返す：タイトル\n",
        "  title = title.decode('utf-8')\n",
        "  brackets_tail = re.compile('【[^】]*】$')\n",
        "  brackets_head = re.compile('^【[^】]*】')\n",
        "  return re.sub(brackets_head, \"\", re.sub(brackets_tail, \"\", title))[:-1]\n",
        "\n",
        "corpus = []\n",
        "with tarfile.open(tar_fname) as tf:\n",
        "  for item in tf:\n",
        "    if \"LICENSE.txt\" in item.name:\n",
        "      continue\n",
        "    if len(item.name.split('/')) < 3:\n",
        "      continue\n",
        "    if not item.name.endswith(\".txt\"):\n",
        "      continue\n",
        "    fname = item.name\n",
        "    # 今回はクラス名は要らない\n",
        "    #class_name = fname.split('/')[1]\n",
        "    f = tf.extractfile(fname)\n",
        "    title = read_title(f)\n",
        "    corpus.append(title)"
      ],
      "metadata": {
        "id": "IRjQNO-Lwa95"
      },
      "execution_count": null,
      "outputs": []
    },
    {
      "cell_type": "code",
      "source": [
        "len(corpus)"
      ],
      "metadata": {
        "id": "tZ0gR1_jxA7A"
      },
      "execution_count": null,
      "outputs": []
    },
    {
      "cell_type": "code",
      "source": [
        "def average_pool(last_hidden_states, attention_mask):\n",
        "  last_hidden = last_hidden_states.masked_fill(~attention_mask[..., None].bool(), 0.0)\n",
        "  return last_hidden.sum(dim=1) / attention_mask.sum(dim=1)[..., None]"
      ],
      "metadata": {
        "id": "P8LF0H7o0-6w"
      },
      "execution_count": null,
      "outputs": []
    },
    {
      "cell_type": "markdown",
      "source": [
        "* RTX4090ゲーミングPCだと`batch_size=64`で動く。\n",
        "  * 全データのembeddingは35秒で終わる。"
      ],
      "metadata": {
        "id": "GyUnaz-F8QXM"
      }
    },
    {
      "cell_type": "code",
      "source": [
        "offset = 0\n",
        "batch_size = 8\n",
        "embeddings_list = list()\n",
        "while offset < len(corpus):\n",
        "  batch_dict = tokenizer(\n",
        "      corpus[offset:offset+batch_size],\n",
        "      max_length=128,\n",
        "      padding=True, truncation=True, return_tensors='pt'\n",
        "      ).to(\"cuda\")\n",
        "  with torch.no_grad():\n",
        "    last_hidden_state = model(**batch_dict).last_hidden_state.cpu()\n",
        "  embeddings = average_pool(last_hidden_state, batch_dict['attention_mask'].cpu())\n",
        "  embeddings_list.append(embeddings)\n",
        "  offset += batch_size"
      ],
      "metadata": {
        "id": "w3XjRoNTweV5"
      },
      "execution_count": null,
      "outputs": []
    },
    {
      "cell_type": "code",
      "source": [
        "embeddings = torch.concat(embeddings_list)\n",
        "embeddings.shape"
      ],
      "metadata": {
        "id": "fknvdTnVw6BI"
      },
      "execution_count": null,
      "outputs": []
    },
    {
      "cell_type": "code",
      "source": [
        "torch.save(embeddings.type(torch.float32), \"livedoor_ELYZA.pt\")"
      ],
      "metadata": {
        "id": "4L-BnsoS9xDt"
      },
      "execution_count": null,
      "outputs": []
    },
    {
      "cell_type": "code",
      "source": [
        "torch.dot(embeddings[0], embeddings[1]).item()"
      ],
      "metadata": {
        "id": "SW9OCbPv9Pa1"
      },
      "execution_count": null,
      "outputs": []
    }
  ]
}
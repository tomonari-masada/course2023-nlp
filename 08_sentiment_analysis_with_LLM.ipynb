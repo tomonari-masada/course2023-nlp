{
  "nbformat": 4,
  "nbformat_minor": 0,
  "metadata": {
    "colab": {
      "provenance": [],
      "gpuType": "T4",
      "authorship_tag": "ABX9TyMLYlJUaxRsT4Rrl30ZyCpO",
      "include_colab_link": true
    },
    "kernelspec": {
      "name": "python3",
      "display_name": "Python 3"
    },
    "language_info": {
      "name": "python"
    },
    "accelerator": "GPU"
  },
  "cells": [
    {
      "cell_type": "markdown",
      "metadata": {
        "id": "view-in-github",
        "colab_type": "text"
      },
      "source": [
        "<a href=\"https://colab.research.google.com/github/tomonari-masada/course2023-nlp/blob/main/08_sentiment_analysis_with_LLM.ipynb\" target=\"_parent\"><img src=\"https://colab.research.google.com/assets/colab-badge.svg\" alt=\"Open In Colab\"/></a>"
      ]
    },
    {
      "cell_type": "markdown",
      "source": [
        "# LLMを使ってみる\n",
        "* 今日は、とりあえず、LLMを使ってみる。"
      ],
      "metadata": {
        "id": "s7UHVLvsl89T"
      }
    },
    {
      "cell_type": "markdown",
      "source": [
        "## 今日のコーディングの目的\n",
        "* いまどのくらい手軽にLLMを使えるようになっているかを、とりあえず体感する。\n",
        "* 技術的な詳細は次回以降学んでいくことにして、とにかく使ってみる。"
      ],
      "metadata": {
        "id": "7HPNt4EWmD-Y"
      }
    },
    {
      "cell_type": "markdown",
      "source": [
        "**ランタイムのタイプをGPUに設定しておくこと。**"
      ],
      "metadata": {
        "id": "R0tqelrXmhun"
      }
    },
    {
      "cell_type": "markdown",
      "source": [
        "## 例題: LLMによる感情分析\n",
        "* 今日は、WRIMEというデータセットを使って、LLMに感情分析させてみる。\n",
        "* 感情分析とは、テキストが表す感情を分析するタスク。\n",
        "* 今回は、ポジティブな感情か、ネガティブな感情かの2値分類タスクとして解く。\n",
        "* LLMとしてはELYZA-japanese-Llama-2-7b-instructを使う。\n",
        "  * プロンプトを使ったテキスト生成によって感情分析の問題を解く。"
      ],
      "metadata": {
        "id": "7PtjYmygnqm1"
      }
    },
    {
      "cell_type": "markdown",
      "source": [
        "## インストール\n",
        "* Hugging Faceの各種ライブラリを使えば、簡単なコードを書くだけでLLMを使える。"
      ],
      "metadata": {
        "id": "3GIHAP_Rrgkp"
      }
    },
    {
      "cell_type": "markdown",
      "source": [
        "### Transformersライブラリのインストール\n",
        "* https://huggingface.co/docs/transformers/index"
      ],
      "metadata": {
        "id": "3FEPliNumzPi"
      }
    },
    {
      "cell_type": "code",
      "source": [
        "!pip install transformers"
      ],
      "metadata": {
        "id": "2W5-9kWlm1qS"
      },
      "execution_count": null,
      "outputs": []
    },
    {
      "cell_type": "markdown",
      "source": [
        "### Datasetsライブラリのインストール\n",
        "* https://huggingface.co/docs/datasets/index"
      ],
      "metadata": {
        "id": "eGHG8EeTnPQi"
      }
    },
    {
      "cell_type": "code",
      "source": [
        "!pip install datasets"
      ],
      "metadata": {
        "id": "OXa6Thx-nGVA"
      },
      "execution_count": null,
      "outputs": []
    },
    {
      "cell_type": "markdown",
      "source": [
        "### Accelerateライブラリのインストール\n",
        "* https://huggingface.co/docs/accelerate/index"
      ],
      "metadata": {
        "id": "aJKj8VXHrauA"
      }
    },
    {
      "cell_type": "code",
      "source": [
        "!pip install accelerate"
      ],
      "metadata": {
        "id": "GCTSWrIsrWaK"
      },
      "execution_count": null,
      "outputs": []
    },
    {
      "cell_type": "markdown",
      "source": [
        "### AutoGPTQのインストール\n",
        "* モデルを量子化するときに使うライブラリ。\n",
        "* 量子化されたモデルを使うときにも必要。\n",
        "  * https://huggingface.co/docs/optimum/llm_quantization/usage_guides/quantization\n",
        "  * https://huggingface.co/blog/gptq-integration"
      ],
      "metadata": {
        "id": "wORDq1mJ07Ek"
      }
    },
    {
      "cell_type": "code",
      "source": [
        "!pip install auto-gptq"
      ],
      "metadata": {
        "id": "sHQ6_PlWxQf8"
      },
      "execution_count": null,
      "outputs": []
    },
    {
      "cell_type": "markdown",
      "source": [
        "**ここでランタイムを再起動する。**"
      ],
      "metadata": {
        "id": "ntPSyIO8r83H"
      }
    },
    {
      "cell_type": "markdown",
      "source": [
        "## 準備"
      ],
      "metadata": {
        "id": "eX6zotwEoK2r"
      }
    },
    {
      "cell_type": "code",
      "source": [
        "import os\n",
        "import numpy as np\n",
        "import torch\n",
        "from datasets import load_dataset\n",
        "import transformers\n",
        "from transformers import AutoTokenizer, AutoConfig, AutoModelForCausalLM\n",
        "\n",
        "os.environ[\"CUDA_VISIBLE_DEVICES\"] = \"0\"\n",
        "\n",
        "np.random.seed(0)\n",
        "torch.manual_seed(0)"
      ],
      "metadata": {
        "id": "9A6Euk7gmXNv"
      },
      "execution_count": null,
      "outputs": []
    },
    {
      "cell_type": "markdown",
      "source": [
        "## データセット\n",
        "* Ver. 2 の方を使う。\n",
        " * WRIME: 主観と客観の感情分析データセット https://github.com/ids-cv/wrime\n",
        "* Hugging Faceのdatasets hubに登録されているので、簡単に扱うことができる。"
      ],
      "metadata": {
        "id": "ELjoQ6q_oTAK"
      }
    },
    {
      "cell_type": "markdown",
      "source": [
        "### WRIMEデータセットの取得\n",
        "* training 30,000件、validation 2,500件、test 2,500件。"
      ],
      "metadata": {
        "id": "oC5RDmUWosMq"
      }
    },
    {
      "cell_type": "code",
      "source": [
        "dataset = load_dataset(\"shunk031/wrime\", \"ver2\")"
      ],
      "metadata": {
        "id": "4A0Qp1JsoRaE"
      },
      "execution_count": null,
      "outputs": []
    },
    {
      "cell_type": "code",
      "source": [
        "dataset"
      ],
      "metadata": {
        "id": "julWQgfCox2f"
      },
      "execution_count": null,
      "outputs": []
    },
    {
      "cell_type": "markdown",
      "source": [
        "### 2値分類問題への単純化\n",
        "* word vectorの授業回と同じく、2値分類問題に単純化する。\n",
        "  * https://github.com/tomonari-masada/course2023-nlp/blob/main/04_word_vectors.ipynb"
      ],
      "metadata": {
        "id": "1SWy219ERwHg"
      }
    },
    {
      "cell_type": "code",
      "source": [
        "tags = [\"train\", \"validation\", \"test\"]\n",
        "\n",
        "texts = {}\n",
        "labels = {}\n",
        "for tag in tags:\n",
        "  texts[tag] = np.array(dataset[tag][\"sentence\"])\n",
        "  labels[tag] = [item[\"sentiment\"] for item in dataset[tag][\"avg_readers\"]]\n",
        "  labels[tag] = np.array(labels[tag])"
      ],
      "metadata": {
        "id": "BmHj_BPJRjTT"
      },
      "execution_count": null,
      "outputs": []
    },
    {
      "cell_type": "code",
      "source": [
        "texts[\"train\"][0], labels[\"train\"][0]"
      ],
      "metadata": {
        "id": "QWYTmmmvRphL"
      },
      "execution_count": null,
      "outputs": []
    },
    {
      "cell_type": "markdown",
      "source": [
        "* ラベルがneutralなテキストは使わないことにする。\n",
        "* そして、以下のように2値分類問題へと単純化する。\n",
        "  * -2, -1のnegativeなラベルは、0とラベルを付け直す。\n",
        "  * 1, 2のpositiveなラベルは、1とラベルを付け直す。"
      ],
      "metadata": {
        "id": "8Mt0hYiwVJTO"
      }
    },
    {
      "cell_type": "code",
      "source": [
        "texts_binary = {}\n",
        "labels_binary = {}\n",
        "for tag in tags:\n",
        "  indices = labels[tag] != 0\n",
        "  texts_binary[tag] = texts[tag][indices]\n",
        "  labels_binary[tag] = labels[tag][indices]\n",
        "  labels_binary[tag] = (labels_binary[tag] > 0) * 1"
      ],
      "metadata": {
        "id": "D1zQSbVjSBmS"
      },
      "execution_count": null,
      "outputs": []
    },
    {
      "cell_type": "code",
      "source": [
        "texts_binary[\"train\"][0], labels_binary[\"train\"][0]"
      ],
      "metadata": {
        "id": "r9GB2nWlSSHD"
      },
      "execution_count": null,
      "outputs": []
    },
    {
      "cell_type": "markdown",
      "source": [
        "* ラベルから感情を表すテキストへのマッピングをおこなうリストを作っておく。\n",
        "  * なお、両極の感情をどの単語で表せば良いかについて、特に正解はない。"
      ],
      "metadata": {
        "id": "dhn-e_k7hqDU"
      }
    },
    {
      "cell_type": "code",
      "source": [
        "label_to_text = [\"悲しい\", \"嬉しい\"]"
      ],
      "metadata": {
        "id": "6lfRDvQ0fTBZ"
      },
      "execution_count": null,
      "outputs": []
    },
    {
      "cell_type": "markdown",
      "source": [
        "## LLM\n"
      ],
      "metadata": {
        "id": "ACC0ED27qZtV"
      }
    },
    {
      "cell_type": "markdown",
      "source": [
        "* 今回は、ELYZA-japanese-Llama-2-7b-instructを使う。\n",
        "  * https://huggingface.co/elyza/ELYZA-japanese-Llama-2-7b-instruct\n",
        "* だがGoogle Colab無料版では、この元のモデルは大きすぎて使えない・・・。\n",
        "  * 実は、`from_pretrained`メソッドで・・・\n",
        "  * `torch_dtype=torch.float16`および`device_map=\"auto\"`と設定すれば・・・\n",
        "  * GPUのメモリを13GBぐらい使ってギリギリでセーフなのだが・・・・\n",
        "  * モデルのロードに時間がかかる。\n",
        "* そこで、量子化された下記のモデルを代わりに使う。\n",
        "  * https://huggingface.co/TFMC/ELYZA-japanese-Llama-2-7b-instruct-GPTQ-4bit-64g"
      ],
      "metadata": {
        "id": "kIsSj4bzq7Cl"
      }
    },
    {
      "cell_type": "markdown",
      "source": [
        "### ELYZA-japanese-Llama-2-7b-instruct-GPTQ-4bit-64gの取得\n",
        "* モデルのダウンロードに少し時間がかかる。\n",
        "* `AutoGPTQForCausalLM`クラスについては、以下を参照。\n",
        " * https://github.com/PanQiWei/AutoGPTQ/blob/main/auto_gptq/modeling/auto.py"
      ],
      "metadata": {
        "id": "qVJVYtaKrGwx"
      }
    },
    {
      "cell_type": "markdown",
      "source": [
        "* safetensorsについては、以下を参照。\n",
        " * https://huggingface.co/docs/diffusers/using-diffusers/using_safetensors"
      ],
      "metadata": {
        "id": "sFvxES91acnq"
      }
    },
    {
      "cell_type": "markdown",
      "source": [
        "* QKV fusionについては、以下を参照。\n",
        "  * https://www.deepspeed.ai/2020/05/27/fastest-bert-training.html\n",
        "  * ちなみに、DeepSpeedというライブラリ自体については、[これ](https://www.deepspeed.ai/assets/files/DeepSpeed_Overview_Japanese_2023Jun7th.pdf)を参照。"
      ],
      "metadata": {
        "id": "txCTdB-1i5Et"
      }
    },
    {
      "cell_type": "code",
      "source": [
        "from auto_gptq import AutoGPTQForCausalLM\n",
        "\n",
        "model_name = \"TFMC/ELYZA-japanese-Llama-2-7b-instruct-GPTQ-4bit-64g\"\n",
        "tokenizer = AutoTokenizer.from_pretrained(model_name)\n",
        "\n",
        "model = AutoGPTQForCausalLM.from_quantized(\n",
        "    model_name,\n",
        "    use_safetensors=True,\n",
        "    inject_fused_attention=False, # これをつけないとエラーがでる\n",
        "    device=\"cuda:0\",\n",
        "    )\n",
        "model.eval()"
      ],
      "metadata": {
        "id": "PYR1TtgLrGcv"
      },
      "execution_count": null,
      "outputs": []
    },
    {
      "cell_type": "code",
      "source": [
        "model.model"
      ],
      "metadata": {
        "id": "lfvv_NSCok2s"
      },
      "execution_count": null,
      "outputs": []
    },
    {
      "cell_type": "markdown",
      "source": [
        "### In-context learning"
      ],
      "metadata": {
        "id": "0UyMWuYsp3uw"
      }
    },
    {
      "cell_type": "markdown",
      "source": [
        "* 対義語をELYZAに答えさせてみる。"
      ],
      "metadata": {
        "id": "BUANLH-eqAOF"
      }
    },
    {
      "cell_type": "code",
      "source": [
        "text = \"Q:高い\\nA:低い\\n\\nQ:大きい\\nA:小さい\\n\\nQ:狭い\\nA:広い\\n\\nQ:少ない\\nA:多い\\n\\nQ:速い\\nA:遅い\\n\\nQ:嬉しい\\nA:\"\n",
        "print(text)"
      ],
      "metadata": {
        "id": "vtBg83ARo4eT"
      },
      "execution_count": null,
      "outputs": []
    },
    {
      "cell_type": "code",
      "source": [
        "token_ids = tokenizer.encode(text, return_tensors=\"pt\")\n",
        "print(token_ids)"
      ],
      "metadata": {
        "id": "YFj34j7IpWUC"
      },
      "execution_count": null,
      "outputs": []
    },
    {
      "cell_type": "code",
      "source": [
        "output_ids = model.generate(\n",
        "    input_ids=token_ids.to(model.device),\n",
        "    max_new_tokens=10,\n",
        "    pad_token_id=tokenizer.pad_token_id,\n",
        "    eos_token_id=tokenizer.eos_token_id,\n",
        ")\n",
        "print(output_ids)"
      ],
      "metadata": {
        "id": "2sOeyp3cpear"
      },
      "execution_count": null,
      "outputs": []
    },
    {
      "cell_type": "code",
      "source": [
        "output = tokenizer.decode(output_ids.tolist()[0][token_ids.size(1):], skip_special_tokens=True)\n",
        "print(output)"
      ],
      "metadata": {
        "id": "Ho9b17FFpuJ9"
      },
      "execution_count": null,
      "outputs": []
    },
    {
      "cell_type": "markdown",
      "source": [
        "## 感情分析のプロンプト\n",
        "* LLMがうまく感情分析をしてくれそうなプロンプトを考える。"
      ],
      "metadata": {
        "id": "i5-ymVqjvFDl"
      }
    },
    {
      "cell_type": "markdown",
      "source": [
        "* Llama 2系言語モデルのプロンプトのテンプレートは、以下の通り。"
      ],
      "metadata": {
        "id": "W-NzGwY3cqo-"
      }
    },
    {
      "cell_type": "code",
      "source": [
        "\"\"\"\n",
        "<s>[INST] <<SYS>>\n",
        "\n",
        "{{ System Prompt }}\n",
        "<</SYS>>\n",
        "{{ User Prompt }}\n",
        " [/INST]\n",
        "{{ Model Answer }}\n",
        "\"\"\""
      ],
      "metadata": {
        "id": "jcI9Fsrtco0M"
      },
      "execution_count": null,
      "outputs": []
    },
    {
      "cell_type": "markdown",
      "source": [
        "### プロンプト作成用のヘルパ関数"
      ],
      "metadata": {
        "id": "c33BfNxjypMV"
      }
    },
    {
      "cell_type": "markdown",
      "source": [
        "* 上のテンプレートをふまえて、プロンプトを適当に考える。"
      ],
      "metadata": {
        "id": "xBfCot9vctz7"
      }
    },
    {
      "cell_type": "code",
      "source": [
        "B_INST, E_INST = \"[INST]\", \"[/INST]答え：\"\n",
        "B_SYS, E_SYS = \"<<SYS>>\\n\", \"\\n<</SYS>>\\n\\n\"\n",
        "DEFAULT_SYSTEM_PROMPT = \"あなたは誠実で優秀な日本人のアシスタントです。\"\n",
        "\n",
        "def make_prompt(text):\n",
        "  prompt = \"「\" + text + \"」と言っている人の気持ちは、「嬉しい」と「悲しい」のうち、どちらですか。\"\n",
        "  return \"{b_inst} {system}{prompt} {e_inst} \".format(\n",
        "      b_inst=B_INST,\n",
        "      system=f\"{B_SYS}{DEFAULT_SYSTEM_PROMPT}{E_SYS}\",\n",
        "      prompt=prompt,\n",
        "      e_inst=E_INST,\n",
        "      ).strip()"
      ],
      "metadata": {
        "id": "Q7gEATn-y3RX"
      },
      "execution_count": null,
      "outputs": []
    },
    {
      "cell_type": "code",
      "source": [
        "print(make_prompt(texts_binary[\"train\"][0]))"
      ],
      "metadata": {
        "id": "swKvBE6IdVXf"
      },
      "execution_count": null,
      "outputs": []
    },
    {
      "cell_type": "markdown",
      "source": [
        "* トークンID列に変換すると、以下のようになる。"
      ],
      "metadata": {
        "id": "3Qh_cVqqkXja"
      }
    },
    {
      "cell_type": "code",
      "source": [
        "prompt = make_prompt(texts_binary[\"train\"][0])\n",
        "tokenizer.encode(prompt, return_tensors=\"pt\")"
      ],
      "metadata": {
        "id": "_yfnNdWhev0E"
      },
      "execution_count": null,
      "outputs": []
    },
    {
      "cell_type": "markdown",
      "source": [
        "* 冒頭の1は、`<s>`トークン。"
      ],
      "metadata": {
        "id": "uGrzmDrwkgj4"
      }
    },
    {
      "cell_type": "code",
      "source": [
        "tokenizer.convert_ids_to_tokens(1)"
      ],
      "metadata": {
        "id": "33WgOHule0mz"
      },
      "execution_count": null,
      "outputs": []
    },
    {
      "cell_type": "markdown",
      "source": [
        "## 感情分析"
      ],
      "metadata": {
        "id": "6PahFnk2z-lU"
      }
    },
    {
      "cell_type": "markdown",
      "source": [
        "* 試みに、訓練データのひとつについて、予測させてみる。"
      ],
      "metadata": {
        "id": "as_y9IkweFDM"
      }
    },
    {
      "cell_type": "code",
      "source": [
        "prompt = make_prompt(texts_binary[\"train\"][0])\n",
        "\n",
        "with torch.no_grad():\n",
        "  token_ids = tokenizer.encode(prompt, return_tensors=\"pt\")\n",
        "  output_ids = model.generate(\n",
        "      input_ids=token_ids.to(model.device),\n",
        "      max_new_tokens=10,\n",
        "      pad_token_id=tokenizer.pad_token_id,\n",
        "      eos_token_id=tokenizer.eos_token_id,\n",
        "  )\n",
        "output = tokenizer.decode(output_ids.tolist()[0][token_ids.size(1):], skip_special_tokens=True)\n",
        "print(f\"{prompt}\\nprediction:{output}\")"
      ],
      "metadata": {
        "id": "aOAAiGFMeSU8"
      },
      "execution_count": null,
      "outputs": []
    },
    {
      "cell_type": "code",
      "source": [
        "print(f\"ground truth:「{label_to_text[labels_binary['train'][0]]}」\")"
      ],
      "metadata": {
        "id": "oxgE9qbAfgNg"
      },
      "execution_count": null,
      "outputs": []
    },
    {
      "cell_type": "markdown",
      "source": [
        "### 感情分析の実行"
      ],
      "metadata": {
        "id": "QRYi_49i1Gdt"
      }
    },
    {
      "cell_type": "code",
      "execution_count": null,
      "metadata": {
        "id": "KKPWp6jdW9fF"
      },
      "outputs": [],
      "source": [
        "for i in range(10):\n",
        "  print(f'[{i+1}]' + '-'*80)\n",
        "  prompt = make_prompt(texts_binary[\"train\"][i])\n",
        "  with torch.no_grad():\n",
        "    token_ids = tokenizer.encode(prompt, return_tensors=\"pt\")\n",
        "    output_ids = model.generate(\n",
        "        input_ids=token_ids.to(model.device),\n",
        "        max_new_tokens=10,\n",
        "        pad_token_id=tokenizer.pad_token_id,\n",
        "        eos_token_id=tokenizer.eos_token_id,\n",
        "    )\n",
        "  output = tokenizer.decode(output_ids.tolist()[0][token_ids.size(1):], skip_special_tokens=True)\n",
        "  print(f\"{prompt}\\nprediction:{output}\")\n",
        "  print(f\"ground truth:{label_to_text[labels_binary['train'][i]]}\")\n",
        "  print('-'*80)"
      ]
    },
    {
      "cell_type": "markdown",
      "source": [
        "# 本日の課題\n",
        "* もっとうまくLLMに感情分析をさせるプロンプトを考えてみよう。"
      ],
      "metadata": {
        "id": "-cXKf5dF0vRp"
      }
    },
    {
      "cell_type": "code",
      "source": [],
      "metadata": {
        "id": "iUXcB4axyCQO"
      },
      "execution_count": null,
      "outputs": []
    }
  ]
}
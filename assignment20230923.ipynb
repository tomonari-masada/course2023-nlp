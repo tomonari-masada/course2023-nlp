{
  "nbformat": 4,
  "nbformat_minor": 0,
  "metadata": {
    "colab": {
      "provenance": [],
      "include_colab_link": true
    },
    "kernelspec": {
      "name": "python3",
      "display_name": "Python 3"
    },
    "language_info": {
      "name": "python"
    }
  },
  "cells": [
    {
      "cell_type": "markdown",
      "metadata": {
        "id": "view-in-github",
        "colab_type": "text"
      },
      "source": [
        "<a href=\"https://colab.research.google.com/github/tomonari-masada/course2023-nlp/blob/main/assignment20230923.ipynb\" target=\"_parent\"><img src=\"https://colab.research.google.com/assets/colab-badge.svg\" alt=\"Open In Colab\"/></a>"
      ]
    },
    {
      "cell_type": "markdown",
      "source": [
        "# 課題20230923\n",
        "* TF-IDFベクトルを使って、20 newsgroupsの任意のテキストについて、それと最も似ているテキストを10個返す関数を書こう。\n",
        "* 10個のうち、元のテキストと同じクラスに属するテキストがいくつあるかを調べよう。\n",
        "* 全てのテキストについて同じことを行ない、最も似ている上位10個のうち同じクラスのテキスト数の平均値を求めよう。"
      ],
      "metadata": {
        "id": "CXB61r0atyGt"
      }
    },
    {
      "cell_type": "code",
      "source": [
        "from sklearn.feature_extraction.text import TfidfVectorizer\n",
        "from sklearn.datasets import fetch_20newsgroups\n",
        "\n",
        "newsgroups = fetch_20newsgroups()"
      ],
      "metadata": {
        "id": "Z2Lze1lb20u1"
      },
      "execution_count": 5,
      "outputs": []
    },
    {
      "cell_type": "code",
      "source": [
        "def number_normalizer(tokens):\n",
        "  return (\"#NUMBER\" if token[0].isdigit() else token for token in tokens)\n",
        "\n",
        "class NumberNormalizingVectorizer(TfidfVectorizer):\n",
        "  def build_tokenizer(self):\n",
        "    tokenizer = super().build_tokenizer()\n",
        "    return lambda doc: list(number_normalizer(tokenizer(doc)))"
      ],
      "metadata": {
        "id": "epHAvtFIusJ4"
      },
      "execution_count": 6,
      "outputs": []
    },
    {
      "cell_type": "code",
      "source": [
        "vectorizer = NumberNormalizingVectorizer(stop_words='english', min_df=5)\n",
        "X = vectorizer.fit_transform(newsgroups.data).toarray()\n",
        "X.shape"
      ],
      "metadata": {
        "id": "8cm5jGfYu6n3",
        "colab": {
          "base_uri": "https://localhost:8080/"
        },
        "outputId": "8fc9ca0f-85c9-404f-ff67-0dd6be0662b1"
      },
      "execution_count": 7,
      "outputs": [
        {
          "output_type": "execute_result",
          "data": {
            "text/plain": [
              "(11314, 23427)"
            ]
          },
          "metadata": {},
          "execution_count": 7
        }
      ]
    },
    {
      "cell_type": "code",
      "source": [
        "def find_similar_texts(text_idx, num_texts=10):\n",
        "  return np.argsort(- np.dot(X, X[text_idx]))[:num_texts]"
      ],
      "metadata": {
        "id": "cBpZwKY2sbMQ"
      },
      "execution_count": null,
      "outputs": []
    },
    {
      "cell_type": "code",
      "source": [
        "num_texts = 10\n",
        "\n",
        "text_idx = 0\n",
        "similar_texts = find_similar_texts(text_idx, num_texts=num_texts)\n",
        "(newsgroups.target[similar_texts] == newsgroups.target[text_idx]).sum()"
      ],
      "metadata": {
        "id": "CFL4vdrnsAjp",
        "colab": {
          "base_uri": "https://localhost:8080/"
        },
        "outputId": "485fc6a5-1a22-4c27-d6d2-2b86a72af5bd"
      },
      "execution_count": 8,
      "outputs": [
        {
          "output_type": "execute_result",
          "data": {
            "text/plain": [
              "5"
            ]
          },
          "metadata": {},
          "execution_count": 8
        }
      ]
    },
    {
      "cell_type": "code",
      "source": [
        "from tqdm import tqdm\n",
        "\n",
        "num_correct_answers = list()\n",
        "for text_idx in tqdm(range(len(newsgroups.target))):\n",
        "  similar_texts = find_similar_texts(text_idx, num_texts=num_texts)\n",
        "  num_correct_answers.append(\n",
        "      (newsgroups.target[similar_texts] == newsgroups.target[text_idx]).sum()\n",
        "      )"
      ],
      "metadata": {
        "id": "BGy9qn20rHHL",
        "colab": {
          "base_uri": "https://localhost:8080/",
          "height": 330
        },
        "outputId": "8ac1ea7a-e662-4da5-cf6d-fcd21ec9b0e5"
      },
      "execution_count": 10,
      "outputs": [
        {
          "output_type": "stream",
          "name": "stderr",
          "text": [
            "  1%|          | 82/11314 [00:16<38:06,  4.91it/s]\n"
          ]
        },
        {
          "output_type": "error",
          "ename": "KeyboardInterrupt",
          "evalue": "ignored",
          "traceback": [
            "\u001b[0;31m---------------------------------------------------------------------------\u001b[0m",
            "\u001b[0;31mKeyboardInterrupt\u001b[0m                         Traceback (most recent call last)",
            "\u001b[0;32m<ipython-input-10-bb53ed43c6ce>\u001b[0m in \u001b[0;36m<cell line: 4>\u001b[0;34m()\u001b[0m\n\u001b[1;32m      3\u001b[0m \u001b[0mnum_correct_answers\u001b[0m \u001b[0;34m=\u001b[0m \u001b[0mlist\u001b[0m\u001b[0;34m(\u001b[0m\u001b[0;34m)\u001b[0m\u001b[0;34m\u001b[0m\u001b[0;34m\u001b[0m\u001b[0m\n\u001b[1;32m      4\u001b[0m \u001b[0;32mfor\u001b[0m \u001b[0mtext_idx\u001b[0m \u001b[0;32min\u001b[0m \u001b[0mtqdm\u001b[0m\u001b[0;34m(\u001b[0m\u001b[0mrange\u001b[0m\u001b[0;34m(\u001b[0m\u001b[0mlen\u001b[0m\u001b[0;34m(\u001b[0m\u001b[0mnewsgroups\u001b[0m\u001b[0;34m.\u001b[0m\u001b[0mtarget\u001b[0m\u001b[0;34m)\u001b[0m\u001b[0;34m)\u001b[0m\u001b[0;34m)\u001b[0m\u001b[0;34m:\u001b[0m\u001b[0;34m\u001b[0m\u001b[0;34m\u001b[0m\u001b[0m\n\u001b[0;32m----> 5\u001b[0;31m   \u001b[0msimilar_texts\u001b[0m \u001b[0;34m=\u001b[0m \u001b[0mfind_similar_texts\u001b[0m\u001b[0;34m(\u001b[0m\u001b[0mtext_idx\u001b[0m\u001b[0;34m,\u001b[0m \u001b[0mnum_texts\u001b[0m\u001b[0;34m=\u001b[0m\u001b[0mnum_texts\u001b[0m\u001b[0;34m)\u001b[0m\u001b[0;34m\u001b[0m\u001b[0;34m\u001b[0m\u001b[0m\n\u001b[0m\u001b[1;32m      6\u001b[0m   num_correct_answers.append(\n\u001b[1;32m      7\u001b[0m       \u001b[0;34m(\u001b[0m\u001b[0mnewsgroups\u001b[0m\u001b[0;34m.\u001b[0m\u001b[0mtarget\u001b[0m\u001b[0;34m[\u001b[0m\u001b[0msimilar_texts\u001b[0m\u001b[0;34m]\u001b[0m \u001b[0;34m==\u001b[0m \u001b[0mnewsgroups\u001b[0m\u001b[0;34m.\u001b[0m\u001b[0mtarget\u001b[0m\u001b[0;34m[\u001b[0m\u001b[0mtext_idx\u001b[0m\u001b[0;34m]\u001b[0m\u001b[0;34m)\u001b[0m\u001b[0;34m.\u001b[0m\u001b[0msum\u001b[0m\u001b[0;34m(\u001b[0m\u001b[0;34m)\u001b[0m\u001b[0;34m\u001b[0m\u001b[0;34m\u001b[0m\u001b[0m\n",
            "\u001b[0;32m<ipython-input-4-41ad941e14b0>\u001b[0m in \u001b[0;36mfind_similar_texts\u001b[0;34m(text_idx, num_texts)\u001b[0m\n\u001b[1;32m      2\u001b[0m \u001b[0;34m\u001b[0m\u001b[0m\n\u001b[1;32m      3\u001b[0m \u001b[0;32mdef\u001b[0m \u001b[0mfind_similar_texts\u001b[0m\u001b[0;34m(\u001b[0m\u001b[0mtext_idx\u001b[0m\u001b[0;34m,\u001b[0m \u001b[0mnum_texts\u001b[0m\u001b[0;34m=\u001b[0m\u001b[0;36m10\u001b[0m\u001b[0;34m)\u001b[0m\u001b[0;34m:\u001b[0m\u001b[0;34m\u001b[0m\u001b[0;34m\u001b[0m\u001b[0m\n\u001b[0;32m----> 4\u001b[0;31m   \u001b[0;32mreturn\u001b[0m \u001b[0mnp\u001b[0m\u001b[0;34m.\u001b[0m\u001b[0margsort\u001b[0m\u001b[0;34m(\u001b[0m\u001b[0;34m-\u001b[0m \u001b[0mnp\u001b[0m\u001b[0;34m.\u001b[0m\u001b[0mdot\u001b[0m\u001b[0;34m(\u001b[0m\u001b[0mX\u001b[0m\u001b[0;34m,\u001b[0m \u001b[0mX\u001b[0m\u001b[0;34m[\u001b[0m\u001b[0mtext_idx\u001b[0m\u001b[0;34m]\u001b[0m\u001b[0;34m)\u001b[0m\u001b[0;34m)\u001b[0m\u001b[0;34m[\u001b[0m\u001b[0;34m:\u001b[0m\u001b[0;36m10\u001b[0m\u001b[0;34m]\u001b[0m\u001b[0;34m\u001b[0m\u001b[0;34m\u001b[0m\u001b[0m\n\u001b[0m",
            "\u001b[0;32m/usr/local/lib/python3.10/dist-packages/numpy/core/overrides.py\u001b[0m in \u001b[0;36mdot\u001b[0;34m(*args, **kwargs)\u001b[0m\n",
            "\u001b[0;31mKeyboardInterrupt\u001b[0m: "
          ]
        }
      ]
    },
    {
      "cell_type": "markdown",
      "source": [
        "* これだと遅いので、改良。"
      ],
      "metadata": {
        "id": "grxb5BK-uhV4"
      }
    },
    {
      "cell_type": "code",
      "source": [
        "batch_size = 1000\n",
        "\n",
        "def find_similar_texts(text_idx, num_texts=10):\n",
        "  return np.argsort(- X[text_idx:text_idx+batch_size] @ X.T, axis=-1)[:,:num_texts]"
      ],
      "metadata": {
        "id": "3S6wCUYAuVJg"
      },
      "execution_count": 13,
      "outputs": []
    },
    {
      "cell_type": "code",
      "source": [
        "num_texts = 10\n",
        "\n",
        "text_idx = 0\n",
        "similar_texts = find_similar_texts(text_idx, num_texts=num_texts)\n",
        "similar_texts.shape"
      ],
      "metadata": {
        "colab": {
          "base_uri": "https://localhost:8080/"
        },
        "id": "00iGgQpAu67q",
        "outputId": "add707b1-a4cd-439b-9767-22090ba27dfe"
      },
      "execution_count": 14,
      "outputs": [
        {
          "output_type": "execute_result",
          "data": {
            "text/plain": [
              "(1000, 10)"
            ]
          },
          "metadata": {},
          "execution_count": 14
        }
      ]
    },
    {
      "cell_type": "code",
      "source": [
        "(newsgroups.target[similar_texts] == newsgroups.target[text_idx:text_idx+batch_size].reshape(-1,1)).sum()"
      ],
      "metadata": {
        "colab": {
          "base_uri": "https://localhost:8080/"
        },
        "id": "z3t95KNJvUQi",
        "outputId": "de7e100d-0f8f-4218-b1c5-67128a40ba80"
      },
      "execution_count": 20,
      "outputs": [
        {
          "output_type": "execute_result",
          "data": {
            "text/plain": [
              "6698"
            ]
          },
          "metadata": {},
          "execution_count": 20
        }
      ]
    },
    {
      "cell_type": "markdown",
      "source": [
        "* これで大丈夫そう。"
      ],
      "metadata": {
        "id": "yqkXdLgNv3NF"
      }
    },
    {
      "cell_type": "code",
      "source": [
        "from tqdm import tqdm\n",
        "\n",
        "num_correct_answers = list()\n",
        "for text_idx in tqdm(range(0, len(newsgroups.target)+1, 1000)):\n",
        "  similar_texts = find_similar_texts(text_idx, num_texts=num_texts)\n",
        "  num_correct_answers.append(\n",
        "      (newsgroups.target[similar_texts] == newsgroups.target[text_idx:text_idx+batch_size].reshape(-1,1)).sum()\n",
        "      )"
      ],
      "metadata": {
        "colab": {
          "base_uri": "https://localhost:8080/"
        },
        "id": "F2rKasMruqTl",
        "outputId": "5bc7364f-d9ed-4b5e-d364-f7ac0640f050"
      },
      "execution_count": 21,
      "outputs": [
        {
          "output_type": "stream",
          "name": "stderr",
          "text": [
            "100%|██████████| 12/12 [03:59<00:00, 19.93s/it]\n"
          ]
        }
      ]
    },
    {
      "cell_type": "code",
      "source": [
        "np.array(num_correct_answers).sum()"
      ],
      "metadata": {
        "colab": {
          "base_uri": "https://localhost:8080/"
        },
        "id": "TAD_tzWPv_VH",
        "outputId": "f566b58f-412d-42cb-b19a-ed9a4d8f7e86"
      },
      "execution_count": 22,
      "outputs": [
        {
          "output_type": "execute_result",
          "data": {
            "text/plain": [
              "75611"
            ]
          },
          "metadata": {},
          "execution_count": 22
        }
      ]
    },
    {
      "cell_type": "code",
      "source": [
        "np.array(num_correct_answers).sum() / len(newsgroups.target)"
      ],
      "metadata": {
        "colab": {
          "base_uri": "https://localhost:8080/"
        },
        "id": "aO3RVLi9xgj4",
        "outputId": "d49fafc5-9aac-41dd-e008-c8de0329f17a"
      },
      "execution_count": 23,
      "outputs": [
        {
          "output_type": "execute_result",
          "data": {
            "text/plain": [
              "6.682959165635496"
            ]
          },
          "metadata": {},
          "execution_count": 23
        }
      ]
    },
    {
      "cell_type": "code",
      "source": [],
      "metadata": {
        "id": "wdnflg6HxkEw"
      },
      "execution_count": null,
      "outputs": []
    }
  ]
}
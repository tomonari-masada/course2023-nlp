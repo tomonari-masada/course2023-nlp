{
  "nbformat": 4,
  "nbformat_minor": 0,
  "metadata": {
    "colab": {
      "provenance": [],
      "gpuType": "T4",
      "include_colab_link": true
    },
    "kernelspec": {
      "name": "python3",
      "display_name": "Python 3"
    },
    "language_info": {
      "name": "python"
    },
    "accelerator": "GPU"
  },
  "cells": [
    {
      "cell_type": "markdown",
      "metadata": {
        "id": "view-in-github",
        "colab_type": "text"
      },
      "source": [
        "<a href=\"https://colab.research.google.com/github/tomonari-masada/course2023-nlp/blob/main/assignment20230923.ipynb\" target=\"_parent\"><img src=\"https://colab.research.google.com/assets/colab-badge.svg\" alt=\"Open In Colab\"/></a>"
      ]
    },
    {
      "cell_type": "markdown",
      "source": [
        "# 課題20230923\n",
        "* TF-IDFベクトルを使って、20 newsgroupsの任意のテキストについて、それと最も似ているテキストを10個返す関数を書こう。\n",
        "* 10個のうち、元のテキストと同じクラスに属するテキストがいくつあるかを調べよう。\n",
        "* 全てのテキストについて同じことを行ない、最も似ている上位10個のうち同じクラスのテキスト数の平均値を求めよう。"
      ],
      "metadata": {
        "id": "CXB61r0atyGt"
      }
    },
    {
      "cell_type": "code",
      "source": [
        "import numpy as np\n",
        "from sklearn.feature_extraction.text import TfidfVectorizer\n",
        "from sklearn.datasets import fetch_20newsgroups\n",
        "\n",
        "newsgroups = fetch_20newsgroups()"
      ],
      "metadata": {
        "id": "Z2Lze1lb20u1"
      },
      "execution_count": 1,
      "outputs": []
    },
    {
      "cell_type": "code",
      "source": [
        "def number_normalizer(tokens):\n",
        "  return (\"#NUMBER\" if token[0].isdigit() else token for token in tokens)\n",
        "\n",
        "class NumberNormalizingVectorizer(TfidfVectorizer):\n",
        "  def build_tokenizer(self):\n",
        "    tokenizer = super().build_tokenizer()\n",
        "    return lambda doc: list(number_normalizer(tokenizer(doc)))"
      ],
      "metadata": {
        "id": "epHAvtFIusJ4"
      },
      "execution_count": 2,
      "outputs": []
    },
    {
      "cell_type": "code",
      "source": [
        "vectorizer = NumberNormalizingVectorizer(stop_words='english', min_df=5)\n",
        "X = vectorizer.fit_transform(newsgroups.data).toarray()\n",
        "X.shape"
      ],
      "metadata": {
        "id": "8cm5jGfYu6n3",
        "colab": {
          "base_uri": "https://localhost:8080/"
        },
        "outputId": "37a5bee4-1a93-49d1-f496-db64e8d6b277"
      },
      "execution_count": 3,
      "outputs": [
        {
          "output_type": "execute_result",
          "data": {
            "text/plain": [
              "(11314, 23427)"
            ]
          },
          "metadata": {},
          "execution_count": 3
        }
      ]
    },
    {
      "cell_type": "markdown",
      "source": [
        "## ミニバッチにして高速化"
      ],
      "metadata": {
        "id": "5NXkaJW4W0MW"
      }
    },
    {
      "cell_type": "code",
      "source": [
        "def find_similar_texts(text_idx, batch_size=1000, num_texts=10):\n",
        "  similarities = X[text_idx:text_idx+batch_size] @ X.T\n",
        "  sorted_indices = np.argsort(- similarities, axis=-1)\n",
        "  num_queries = X[text_idx:text_idx+batch_size].shape[0]\n",
        "  query_indices = np.arange(text_idx, text_idx + batch_size)[:num_queries]\n",
        "  anomaly_indices = (sorted_indices[:,0] != query_indices)\n",
        "  for idx in anomaly_indices.nonzero()[0]:\n",
        "    print(f\"Text {idx+text_idx} is as similar to text {sorted_indices[idx,0]} as to itself.\")\n",
        "    sorted_indices[idx,1], sorted_indices[idx,0] = sorted_indices[idx,0], sorted_indices[idx,1]\n",
        "    print(\"----\", sorted_indices[idx,0:num_texts+1].tolist())\n",
        "    print(\"----\", [f\"{s:.3f}\" for s in similarities[idx,sorted_indices[idx,0:num_texts+1]]])\n",
        "  return sorted_indices[:,1:num_texts+1]"
      ],
      "metadata": {
        "id": "3S6wCUYAuVJg"
      },
      "execution_count": 4,
      "outputs": []
    },
    {
      "cell_type": "code",
      "source": [
        "from tqdm import tqdm\n",
        "\n",
        "num_texts = 10\n",
        "batch_size = 1000\n",
        "\n",
        "num_correct_answers = list()\n",
        "for text_idx in tqdm(range(0, len(newsgroups.target)+1, batch_size)):\n",
        "  similar_texts = find_similar_texts(text_idx, batch_size=batch_size, num_texts=num_texts)\n",
        "  prediction = newsgroups.target[similar_texts]\n",
        "  ground_truth = newsgroups.target[text_idx:text_idx+batch_size].reshape(-1,1)\n",
        "  num_correct_answers.append((prediction == ground_truth).sum())"
      ],
      "metadata": {
        "colab": {
          "base_uri": "https://localhost:8080/"
        },
        "id": "F2rKasMruqTl",
        "outputId": "0dc86f16-1d0f-4dea-de0e-d73fd48e317b"
      },
      "execution_count": 5,
      "outputs": [
        {
          "output_type": "stream",
          "name": "stderr",
          "text": [
            "  8%|▊         | 1/12 [00:12<02:20, 12.74s/it]"
          ]
        },
        {
          "output_type": "stream",
          "name": "stdout",
          "text": [
            "Text 14 is as similar to text 5392 as to itself.\n",
            "---- [14, 5392, 8800, 10716, 9863, 11012, 9247, 8516, 10574, 141, 516]\n",
            "---- ['1.000', '1.000', '0.320', '0.320', '0.317', '0.312', '0.311', '0.311', '0.310', '0.307', '0.307']\n"
          ]
        },
        {
          "output_type": "stream",
          "name": "stderr",
          "text": [
            "\r 17%|█▋        | 2/12 [00:25<02:08, 12.88s/it]"
          ]
        },
        {
          "output_type": "stream",
          "name": "stdout",
          "text": [
            "Text 1063 is as similar to text 4635 as to itself.\n",
            "---- [1063, 4635, 8556, 1768, 8469, 4955, 10109, 5054, 5976, 9673, 1029]\n",
            "---- ['1.000', '1.000', '0.314', '0.307', '0.292', '0.287', '0.286', '0.279', '0.275', '0.268', '0.260']\n"
          ]
        },
        {
          "output_type": "stream",
          "name": "stderr",
          "text": [
            "\r 25%|██▌       | 3/12 [00:38<01:56, 12.97s/it]"
          ]
        },
        {
          "output_type": "stream",
          "name": "stdout",
          "text": [
            "Text 2726 is as similar to text 2217 as to itself.\n",
            "---- [2726, 2217, 5955, 3027, 6727, 9956, 5192, 1929, 7499, 5179, 8506]\n",
            "---- ['1.000', '1.000', '0.395', '0.376', '0.370', '0.259', '0.258', '0.246', '0.243', '0.236', '0.232']\n"
          ]
        },
        {
          "output_type": "stream",
          "name": "stderr",
          "text": [
            " 58%|█████▊    | 7/12 [01:27<01:02, 12.59s/it]"
          ]
        },
        {
          "output_type": "stream",
          "name": "stdout",
          "text": [
            "Text 6518 is as similar to text 3665 as to itself.\n",
            "---- [6518, 3665, 8800, 10716, 8516, 9863, 10574, 9247, 141, 11012, 5045]\n",
            "---- ['1.000', '1.000', '0.592', '0.591', '0.589', '0.586', '0.585', '0.579', '0.570', '0.568', '0.567']\n"
          ]
        },
        {
          "output_type": "stream",
          "name": "stderr",
          "text": [
            " 75%|███████▌  | 9/12 [01:53<00:37, 12.58s/it]"
          ]
        },
        {
          "output_type": "stream",
          "name": "stdout",
          "text": [
            "Text 8543 is as similar to text 10304 as to itself.\n",
            "---- [8543, 10304, 8048, 3049, 5597, 9888, 6372, 9046, 5008, 10015, 6284]\n",
            "---- ['1.000', '1.000', '0.448', '0.298', '0.269', '0.259', '0.248', '0.243', '0.234', '0.215', '0.212']\n",
            "Text 8701 is as similar to text 9845 as to itself.\n",
            "---- [8701, 9845, 5156, 10716, 8800, 7511, 1979, 9863, 4352, 11012, 9247]\n",
            "---- ['1.000', '1.000', '0.249', '0.220', '0.220', '0.220', '0.216', '0.215', '0.214', '0.214', '0.212']\n"
          ]
        },
        {
          "output_type": "stream",
          "name": "stderr",
          "text": [
            "\r 83%|████████▎ | 10/12 [02:04<00:24, 12.19s/it]"
          ]
        },
        {
          "output_type": "stream",
          "name": "stdout",
          "text": [
            "Text 9511 is as similar to text 5106 as to itself.\n",
            "---- [9511, 5106, 9107, 3482, 10257, 10273, 10059, 8307, 8545, 1162, 10404]\n",
            "---- ['1.000', '1.000', '0.262', '0.249', '0.249', '0.228', '0.204', '0.179', '0.175', '0.171', '0.156']\n",
            "Text 9989 is as similar to text 800 as to itself.\n",
            "---- [9989, 800, 9440, 9139, 7522, 1634, 924, 1454, 10452, 4164, 11069]\n",
            "---- ['1.000', '1.000', '0.326', '0.233', '0.180', '0.172', '0.168', '0.167', '0.150', '0.149', '0.136']\n"
          ]
        },
        {
          "output_type": "stream",
          "name": "stderr",
          "text": [
            "\r 92%|█████████▏| 11/12 [02:17<00:12, 12.36s/it]"
          ]
        },
        {
          "output_type": "stream",
          "name": "stdout",
          "text": [
            "Text 10777 is as similar to text 2002 as to itself.\n",
            "---- [10777, 2002, 3893, 11104, 11083, 7043, 5284, 3973, 9350, 6343, 2168]\n",
            "---- ['1.000', '1.000', '0.359', '0.350', '0.277', '0.246', '0.246', '0.241', '0.232', '0.218', '0.197']\n"
          ]
        },
        {
          "output_type": "stream",
          "name": "stderr",
          "text": [
            "100%|██████████| 12/12 [02:21<00:00, 11.79s/it]\n"
          ]
        }
      ]
    },
    {
      "cell_type": "code",
      "source": [
        "np.array(num_correct_answers).sum()"
      ],
      "metadata": {
        "colab": {
          "base_uri": "https://localhost:8080/"
        },
        "id": "TAD_tzWPv_VH",
        "outputId": "39b18d4d-b2e7-482e-f1dc-335325a8ece9"
      },
      "execution_count": 6,
      "outputs": [
        {
          "output_type": "execute_result",
          "data": {
            "text/plain": [
              "70081"
            ]
          },
          "metadata": {},
          "execution_count": 6
        }
      ]
    },
    {
      "cell_type": "code",
      "source": [
        "np.array(num_correct_answers).sum() / len(newsgroups.target)"
      ],
      "metadata": {
        "colab": {
          "base_uri": "https://localhost:8080/"
        },
        "id": "aO3RVLi9xgj4",
        "outputId": "d4745359-121d-48b2-bd4e-b2a8e0617ef5"
      },
      "execution_count": 7,
      "outputs": [
        {
          "output_type": "execute_result",
          "data": {
            "text/plain": [
              "6.19418419657062"
            ]
          },
          "metadata": {},
          "execution_count": 7
        }
      ]
    },
    {
      "cell_type": "markdown",
      "source": [
        "## PyTorchを使って高速化"
      ],
      "metadata": {
        "id": "6QtjEFjAWv03"
      }
    },
    {
      "cell_type": "code",
      "source": [
        "import torch\n",
        "\n",
        "def subroutine(text_idx, batch_size):\n",
        "  X_cuda = torch.tensor(X, dtype=torch.float32).to(\"cuda\")\n",
        "  return (\n",
        "      X_cuda[text_idx:text_idx+batch_size] @ X_cuda.T\n",
        "      ).cpu().numpy().astype(np.double)"
      ],
      "metadata": {
        "id": "I9Z6jJ7cHkd8"
      },
      "execution_count": 8,
      "outputs": []
    },
    {
      "cell_type": "code",
      "source": [
        "def find_similar_texts(text_idx, batch_size=1000, num_texts=10):\n",
        "  similarities = subroutine(text_idx, batch_size)\n",
        "  sorted_indices = np.argsort(- similarities, axis=-1)\n",
        "  num_queries = X[text_idx:text_idx+batch_size].shape[0]\n",
        "  query_indices = np.arange(text_idx, text_idx + batch_size)[:num_queries]\n",
        "  anomaly_indices = (sorted_indices[:,0] != query_indices)\n",
        "  for idx in anomaly_indices.nonzero()[0]:\n",
        "    print(f\"Text {idx+text_idx} is as similar to text {sorted_indices[idx,0]} as to itself.\")\n",
        "    sorted_indices[idx,1], sorted_indices[idx,0] = sorted_indices[idx,0], sorted_indices[idx,1]\n",
        "    print(\"----\", sorted_indices[idx,0:num_texts+1].tolist())\n",
        "    print(\"----\", [f\"{s:.3f}\" for s in similarities[idx,sorted_indices[idx,0:num_texts+1]]])\n",
        "  return sorted_indices[:,1:num_texts+1]"
      ],
      "metadata": {
        "id": "GRQ63D5CWGnD"
      },
      "execution_count": 9,
      "outputs": []
    },
    {
      "cell_type": "code",
      "source": [
        "from tqdm import tqdm\n",
        "\n",
        "num_texts = 10\n",
        "batch_size = 1000\n",
        "\n",
        "num_correct_answers = list()\n",
        "for text_idx in tqdm(range(0, len(newsgroups.target)+1, batch_size)):\n",
        "  similar_texts = find_similar_texts(text_idx, batch_size=batch_size, num_texts=num_texts)\n",
        "  prediction = newsgroups.target[similar_texts]\n",
        "  ground_truth = newsgroups.target[text_idx:text_idx+batch_size].reshape(-1,1)\n",
        "  num_correct_answers.append((prediction == ground_truth).sum())"
      ],
      "metadata": {
        "colab": {
          "base_uri": "https://localhost:8080/"
        },
        "id": "ngE7QZgeWVDl",
        "outputId": "d9243570-95e4-42ec-e4a6-5ce3ee2ffe6d"
      },
      "execution_count": 10,
      "outputs": [
        {
          "output_type": "stream",
          "name": "stderr",
          "text": [
            "  8%|▊         | 1/12 [00:02<00:25,  2.32s/it]"
          ]
        },
        {
          "output_type": "stream",
          "name": "stdout",
          "text": [
            "Text 14 is as similar to text 5392 as to itself.\n",
            "---- [14, 5392, 8800, 10716, 9863, 11012, 9247, 8516, 10574, 141, 516]\n",
            "---- ['1.000', '1.000', '0.320', '0.320', '0.317', '0.312', '0.311', '0.311', '0.310', '0.307', '0.307']\n"
          ]
        },
        {
          "output_type": "stream",
          "name": "stderr",
          "text": [
            "\r 17%|█▋        | 2/12 [00:04<00:20,  2.08s/it]"
          ]
        },
        {
          "output_type": "stream",
          "name": "stdout",
          "text": [
            "Text 1063 is as similar to text 4635 as to itself.\n",
            "---- [1063, 4635, 8556, 1768, 8469, 4955, 10109, 5054, 5976, 9673, 1029]\n",
            "---- ['1.000', '1.000', '0.314', '0.307', '0.292', '0.287', '0.286', '0.279', '0.275', '0.268', '0.260']\n"
          ]
        },
        {
          "output_type": "stream",
          "name": "stderr",
          "text": [
            "\r 25%|██▌       | 3/12 [00:06<00:17,  1.97s/it]"
          ]
        },
        {
          "output_type": "stream",
          "name": "stdout",
          "text": [
            "Text 2726 is as similar to text 2217 as to itself.\n",
            "---- [2726, 2217, 5955, 3027, 6727, 9956, 5192, 1929, 7499, 5179, 8506]\n",
            "---- ['1.000', '1.000', '0.395', '0.376', '0.370', '0.259', '0.258', '0.246', '0.243', '0.236', '0.232']\n"
          ]
        },
        {
          "output_type": "stream",
          "name": "stderr",
          "text": [
            " 58%|█████▊    | 7/12 [00:14<00:10,  2.05s/it]"
          ]
        },
        {
          "output_type": "stream",
          "name": "stdout",
          "text": [
            "Text 6518 is as similar to text 3665 as to itself.\n",
            "---- [6518, 3665, 8800, 10716, 8516, 9863, 10574, 9247, 141, 11012, 5045]\n",
            "---- ['1.000', '1.000', '0.592', '0.591', '0.589', '0.586', '0.585', '0.579', '0.570', '0.568', '0.567']\n"
          ]
        },
        {
          "output_type": "stream",
          "name": "stderr",
          "text": [
            " 75%|███████▌  | 9/12 [00:17<00:05,  1.94s/it]"
          ]
        },
        {
          "output_type": "stream",
          "name": "stdout",
          "text": [
            "Text 8543 is as similar to text 10304 as to itself.\n",
            "---- [8543, 10304, 8048, 3049, 5597, 9888, 6372, 9046, 5008, 10015, 6284]\n",
            "---- ['1.000', '1.000', '0.448', '0.298', '0.269', '0.259', '0.248', '0.243', '0.234', '0.215', '0.212']\n",
            "Text 8701 is as similar to text 9845 as to itself.\n",
            "---- [8701, 9845, 5156, 10716, 8800, 7511, 1979, 9863, 4352, 11012, 9247]\n",
            "---- ['1.000', '1.000', '0.249', '0.220', '0.220', '0.220', '0.216', '0.215', '0.214', '0.214', '0.212']\n"
          ]
        },
        {
          "output_type": "stream",
          "name": "stderr",
          "text": [
            "\r 83%|████████▎ | 10/12 [00:19<00:03,  1.92s/it]"
          ]
        },
        {
          "output_type": "stream",
          "name": "stdout",
          "text": [
            "Text 9511 is as similar to text 5106 as to itself.\n",
            "---- [9511, 5106, 9107, 3482, 10257, 10273, 10059, 8307, 8545, 1162, 10404]\n",
            "---- ['1.000', '1.000', '0.262', '0.249', '0.249', '0.228', '0.204', '0.179', '0.175', '0.171', '0.156']\n",
            "Text 9989 is as similar to text 800 as to itself.\n",
            "---- [9989, 800, 9440, 9139, 7522, 1634, 924, 1454, 10452, 4164, 11069]\n",
            "---- ['1.000', '1.000', '0.326', '0.233', '0.180', '0.172', '0.168', '0.167', '0.150', '0.149', '0.136']\n"
          ]
        },
        {
          "output_type": "stream",
          "name": "stderr",
          "text": [
            "\r 92%|█████████▏| 11/12 [00:21<00:01,  1.91s/it]"
          ]
        },
        {
          "output_type": "stream",
          "name": "stdout",
          "text": [
            "Text 10777 is as similar to text 2002 as to itself.\n",
            "---- [10777, 2002, 3893, 11104, 11083, 7043, 5284, 3973, 9350, 6343, 2168]\n",
            "---- ['1.000', '1.000', '0.359', '0.350', '0.277', '0.246', '0.246', '0.241', '0.232', '0.218', '0.197']\n"
          ]
        },
        {
          "output_type": "stream",
          "name": "stderr",
          "text": [
            "100%|██████████| 12/12 [00:23<00:00,  1.92s/it]\n"
          ]
        }
      ]
    },
    {
      "cell_type": "code",
      "source": [
        "np.array(num_correct_answers).sum()"
      ],
      "metadata": {
        "colab": {
          "base_uri": "https://localhost:8080/"
        },
        "id": "Q4DaKLBJWW92",
        "outputId": "1b35a5c7-71b1-4a5a-9e85-e2387053d661"
      },
      "execution_count": 11,
      "outputs": [
        {
          "output_type": "execute_result",
          "data": {
            "text/plain": [
              "70081"
            ]
          },
          "metadata": {},
          "execution_count": 11
        }
      ]
    },
    {
      "cell_type": "code",
      "source": [
        "np.array(num_correct_answers).sum() / len(newsgroups.target)"
      ],
      "metadata": {
        "colab": {
          "base_uri": "https://localhost:8080/"
        },
        "id": "w_3XT5g8Wse8",
        "outputId": "7d952aaf-8197-4f99-f916-56fbf3994f29"
      },
      "execution_count": 12,
      "outputs": [
        {
          "output_type": "execute_result",
          "data": {
            "text/plain": [
              "6.19418419657062"
            ]
          },
          "metadata": {},
          "execution_count": 12
        }
      ]
    },
    {
      "cell_type": "code",
      "source": [],
      "metadata": {
        "id": "24kKSUr1Wt_V"
      },
      "execution_count": 12,
      "outputs": []
    }
  ]
}